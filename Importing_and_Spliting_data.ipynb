{
  "nbformat": 4,
  "nbformat_minor": 0,
  "metadata": {
    "colab": {
      "name": "Importing and Spliting data.ipynb",
      "provenance": [],
      "authorship_tag": "ABX9TyOavTjnKX7SuKlGYxpujd/E",
      "include_colab_link": true
    },
    "kernelspec": {
      "name": "python3",
      "display_name": "Python 3"
    }
  },
  "cells": [
    {
      "cell_type": "markdown",
      "metadata": {
        "id": "view-in-github",
        "colab_type": "text"
      },
      "source": [
        "<a href=\"https://colab.research.google.com/github/chibaba/DATASTRUCTURES_ALGORITHMS/blob/master/Importing_and_Spliting_data.ipynb\" target=\"_parent\"><img src=\"https://colab.research.google.com/assets/colab-badge.svg\" alt=\"Open In Colab\"/></a>"
      ]
    },
    {
      "cell_type": "code",
      "metadata": {
        "id": "T_6TDmH9CeAc",
        "colab_type": "code",
        "colab": {}
      },
      "source": [
        "import pandas as pd\n"
      ],
      "execution_count": 1,
      "outputs": []
    },
    {
      "cell_type": "code",
      "metadata": {
        "id": "Y9-1x4acHzWt",
        "colab_type": "code",
        "colab": {}
      },
      "source": [
        "from sklearn.model_selection import train_test_split\n"
      ],
      "execution_count": 2,
      "outputs": []
    },
    {
      "cell_type": "code",
      "metadata": {
        "id": "_o226gCcDLyv",
        "colab_type": "code",
        "colab": {}
      },
      "source": [
        "# data doesn't have headers, so let's create headers\n",
        "_headers = ['buying', 'maint', 'doors', 'persons', 'lug_boot', 'safety', 'car']"
      ],
      "execution_count": 3,
      "outputs": []
    },
    {
      "cell_type": "code",
      "metadata": {
        "id": "DoltgEZ6Ij-d",
        "colab_type": "code",
        "colab": {}
      },
      "source": [
        "# read in cars dataset\n",
        "df = pd.read_csv('https://raw.githubusercontent.com/PacktWorkshops/The-Data-Science-Workshop/master/Chapter07/Dataset/car.data', names=_headers, index_col=None)"
      ],
      "execution_count": 5,
      "outputs": []
    },
    {
      "cell_type": "code",
      "metadata": {
        "id": "8F_fQhWUI3gg",
        "colab_type": "code",
        "colab": {
          "base_uri": "https://localhost:8080/",
          "height": 255
        },
        "outputId": "8816e787-300e-46e2-d58e-7f0e31a2f1e5"
      },
      "source": [
        "df.info()\n"
      ],
      "execution_count": 6,
      "outputs": [
        {
          "output_type": "stream",
          "text": [
            "<class 'pandas.core.frame.DataFrame'>\n",
            "RangeIndex: 1728 entries, 0 to 1727\n",
            "Data columns (total 7 columns):\n",
            " #   Column    Non-Null Count  Dtype \n",
            "---  ------    --------------  ----- \n",
            " 0   buying    1728 non-null   object\n",
            " 1   maint     1728 non-null   object\n",
            " 2   doors     1728 non-null   object\n",
            " 3   persons   1728 non-null   object\n",
            " 4   lug_boot  1728 non-null   object\n",
            " 5   safety    1728 non-null   object\n",
            " 6   car       1728 non-null   object\n",
            "dtypes: object(7)\n",
            "memory usage: 94.6+ KB\n"
          ],
          "name": "stdout"
        }
      ]
    },
    {
      "cell_type": "code",
      "metadata": {
        "id": "BZc5WHinJYdF",
        "colab_type": "code",
        "colab": {}
      },
      "source": [
        "#split the data into 80% for training and 20% for evaluation\n",
        "training_df, eval_df = train_test_split(df, train_size=0.8, random_state=0)"
      ],
      "execution_count": 7,
      "outputs": []
    },
    {
      "cell_type": "code",
      "metadata": {
        "id": "XEpE9888JqMA",
        "colab_type": "code",
        "colab": {
          "base_uri": "https://localhost:8080/",
          "height": 255
        },
        "outputId": "61355ed1-0f7a-48e0-ef20-88db108470f0"
      },
      "source": [
        "training_df.info()\n"
      ],
      "execution_count": 8,
      "outputs": [
        {
          "output_type": "stream",
          "text": [
            "<class 'pandas.core.frame.DataFrame'>\n",
            "Int64Index: 1382 entries, 1649 to 684\n",
            "Data columns (total 7 columns):\n",
            " #   Column    Non-Null Count  Dtype \n",
            "---  ------    --------------  ----- \n",
            " 0   buying    1382 non-null   object\n",
            " 1   maint     1382 non-null   object\n",
            " 2   doors     1382 non-null   object\n",
            " 3   persons   1382 non-null   object\n",
            " 4   lug_boot  1382 non-null   object\n",
            " 5   safety    1382 non-null   object\n",
            " 6   car       1382 non-null   object\n",
            "dtypes: object(7)\n",
            "memory usage: 86.4+ KB\n"
          ],
          "name": "stdout"
        }
      ]
    },
    {
      "cell_type": "code",
      "metadata": {
        "id": "OdsW-B3wJyNU",
        "colab_type": "code",
        "colab": {
          "base_uri": "https://localhost:8080/",
          "height": 255
        },
        "outputId": "18ea1509-286a-4a16-a9e9-b17466af1900"
      },
      "source": [
        "eval_df.info()\n"
      ],
      "execution_count": 9,
      "outputs": [
        {
          "output_type": "stream",
          "text": [
            "<class 'pandas.core.frame.DataFrame'>\n",
            "Int64Index: 346 entries, 1318 to 427\n",
            "Data columns (total 7 columns):\n",
            " #   Column    Non-Null Count  Dtype \n",
            "---  ------    --------------  ----- \n",
            " 0   buying    346 non-null    object\n",
            " 1   maint     346 non-null    object\n",
            " 2   doors     346 non-null    object\n",
            " 3   persons   346 non-null    object\n",
            " 4   lug_boot  346 non-null    object\n",
            " 5   safety    346 non-null    object\n",
            " 6   car       346 non-null    object\n",
            "dtypes: object(7)\n",
            "memory usage: 21.6+ KB\n"
          ],
          "name": "stdout"
        }
      ]
    }
  ]
}